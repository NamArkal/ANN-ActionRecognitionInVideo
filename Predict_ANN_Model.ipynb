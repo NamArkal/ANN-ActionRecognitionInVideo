{
 "cells": [
  {
   "cell_type": "code",
   "execution_count": 1,
   "metadata": {},
   "outputs": [
    {
     "name": "stderr",
     "output_type": "stream",
     "text": [
      "/anaconda3/lib/python3.6/site-packages/h5py/__init__.py:36: FutureWarning: Conversion of the second argument of issubdtype from `float` to `np.floating` is deprecated. In future, it will be treated as `np.float64 == np.dtype(float).type`.\n",
      "  from ._conv import register_converters as _register_converters\n",
      "Using TensorFlow backend.\n",
      "/anaconda3/lib/python3.6/importlib/_bootstrap.py:219: RuntimeWarning: compiletime version 3.5 of module 'tensorflow.python.framework.fast_tensor_util' does not match runtime version 3.6\n",
      "  return f(*args, **kwds)\n"
     ]
    }
   ],
   "source": [
    "from keras.models import load_model\n",
    "from data import DataSet\n",
    "import numpy as np"
   ]
  },
  {
   "cell_type": "code",
   "execution_count": 2,
   "metadata": {},
   "outputs": [],
   "source": [
    "def predict(data_type, seq_length, saved_model, image_shape, video_name, class_limit):\n",
    "    model = load_model(saved_model)\n",
    "\n",
    "    # Get the data and process it.\n",
    "    if image_shape is None:\n",
    "        data = DataSet(seq_length=seq_length, class_limit=class_limit)\n",
    "    else:\n",
    "        data = DataSet(seq_length=seq_length, image_shape=image_shape,\n",
    "            class_limit=class_limit)\n",
    "    \n",
    "    # Extract the sample from the data.\n",
    "    sample = data.get_frames_by_filename(video_name, data_type)\n",
    "\n",
    "    # Predict!\n",
    "    prediction = model.predict(np.expand_dims(sample, axis=0))\n",
    "    print(prediction)\n",
    "    data.print_class_from_prediction(np.squeeze(prediction, axis=0))"
   ]
  },
  {
   "cell_type": "code",
   "execution_count": 3,
   "metadata": {},
   "outputs": [],
   "source": [
    "model = 'lrcn'\n",
    "saved_model = 'data/checkpoints/lrcn-images.080-1.589.hdf5'\n",
    "seq_length = 40\n",
    "class_limit = 5\n",
    "video_name = 'v_BabyCrawling_g01_c02'"
   ]
  },
  {
   "cell_type": "code",
   "execution_count": 4,
   "metadata": {},
   "outputs": [],
   "source": [
    "if model in ['conv_3d', 'lrcn']:\n",
    "    data_type = 'images'\n",
    "    image_shape = (80, 80, 3)\n",
    "elif model in ['lstm']:\n",
    "    data_type = 'features'\n",
    "    image_shape = None\n",
    "else:\n",
    "    raise ValueError(\"Invalid model. See train.py for options.\")"
   ]
  },
  {
   "cell_type": "code",
   "execution_count": 5,
   "metadata": {},
   "outputs": [
    {
     "name": "stdout",
     "output_type": "stream",
     "text": [
      "[[0.1943474  0.21712837 0.17329746 0.21855925 0.19666752]]\n",
      "BabyCrawling: 0.22\n",
      "ApplyLipstick: 0.22\n",
      "BalanceBeam: 0.20\n",
      "ApplyEyeMakeup: 0.19\n",
      "Archery: 0.17\n"
     ]
    }
   ],
   "source": [
    "predict(data_type, seq_length, saved_model, image_shape, video_name, class_limit)"
   ]
  },
  {
   "cell_type": "code",
   "execution_count": null,
   "metadata": {},
   "outputs": [],
   "source": []
  }
 ],
 "metadata": {
  "kernelspec": {
   "display_name": "Python 3",
   "language": "python",
   "name": "python3"
  },
  "language_info": {
   "codemirror_mode": {
    "name": "ipython",
    "version": 3
   },
   "file_extension": ".py",
   "mimetype": "text/x-python",
   "name": "python",
   "nbconvert_exporter": "python",
   "pygments_lexer": "ipython3",
   "version": "3.6.5"
  }
 },
 "nbformat": 4,
 "nbformat_minor": 2
}
