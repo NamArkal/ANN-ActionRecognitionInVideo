{
 "cells": [
  {
   "cell_type": "code",
   "execution_count": 1,
   "metadata": {},
   "outputs": [
    {
     "name": "stderr",
     "output_type": "stream",
     "text": [
      "/anaconda3/lib/python3.6/site-packages/h5py/__init__.py:36: FutureWarning: Conversion of the second argument of issubdtype from `float` to `np.floating` is deprecated. In future, it will be treated as `np.float64 == np.dtype(float).type`.\n",
      "  from ._conv import register_converters as _register_converters\n",
      "Using TensorFlow backend.\n",
      "/anaconda3/lib/python3.6/importlib/_bootstrap.py:219: RuntimeWarning: compiletime version 3.5 of module 'tensorflow.python.framework.fast_tensor_util' does not match runtime version 3.6\n",
      "  return f(*args, **kwds)\n"
     ]
    }
   ],
   "source": [
    "from keras.callbacks import TensorBoard, ModelCheckpoint, CSVLogger\n",
    "from models import ResearchModels\n",
    "from data import DataSet\n",
    "import matplotlib.pyplot as plt"
   ]
  },
  {
   "cell_type": "code",
   "execution_count": 2,
   "metadata": {},
   "outputs": [],
   "source": [
    "def validate(data_type, model, seq_length=40, saved_model=None,\n",
    "             class_limit=None, image_shape=None):\n",
    "    batch_size = 32\n",
    "\n",
    "    # Get the data and process it.\n",
    "    if image_shape is None:\n",
    "        data = DataSet(\n",
    "            seq_length=seq_length,\n",
    "            class_limit=class_limit\n",
    "        )\n",
    "    else:\n",
    "        data = DataSet(\n",
    "            seq_length=seq_length,\n",
    "            class_limit=class_limit,\n",
    "            image_shape=image_shape\n",
    "        )\n",
    "\n",
    "    val_generator = data.frame_generator(batch_size, 'test', data_type)\n",
    "\n",
    "    # Get the model.\n",
    "    rm = ResearchModels(len(data.classes), model, seq_length, saved_model)\n",
    "\n",
    "    # Evaluate!\n",
    "    results = rm.model.evaluate_generator(\n",
    "        generator=val_generator,\n",
    "        val_samples=32)\n",
    "\n",
    "    print(results)\n",
    "    print(rm.model.metrics_names)\n",
    "    \n",
    "    plt.plot(results[1])\n",
    "    plt.plot(results[0])\n",
    "    plt.title('Accuracy v/s Loss')\n",
    "    plt.ylabel('accuracy')\n",
    "    plt.xlabel('loss')\n",
    "    plt.show()"
   ]
  },
  {
   "cell_type": "code",
   "execution_count": 3,
   "metadata": {},
   "outputs": [],
   "source": [
    "model = 'lrcn'\n",
    "saved_model = 'data/checkpoints/lrcn-images.079-1.585.hdf5'"
   ]
  },
  {
   "cell_type": "code",
   "execution_count": 4,
   "metadata": {},
   "outputs": [],
   "source": [
    "if model == 'conv_3d' or model == 'lrcn':\n",
    "        data_type = 'images'\n",
    "        image_shape = (80, 80, 3)\n",
    "else:\n",
    "    data_type = 'features'\n",
    "    image_shape = None"
   ]
  },
  {
   "cell_type": "code",
   "execution_count": 5,
   "metadata": {},
   "outputs": [
    {
     "name": "stdout",
     "output_type": "stream",
     "text": [
      "Loading model data/checkpoints/lrcn-images.079-1.585.hdf5\n",
      "_________________________________________________________________\n",
      "Layer (type)                 Output Shape              Param #   \n",
      "=================================================================\n",
      "time_distributed_1 (TimeDist (None, 40, 40, 40, 32)    4736      \n",
      "_________________________________________________________________\n",
      "time_distributed_2 (TimeDist (None, 40, 38, 38, 32)    9248      \n",
      "_________________________________________________________________\n",
      "time_distributed_3 (TimeDist (None, 40, 19, 19, 32)    0         \n",
      "_________________________________________________________________\n",
      "time_distributed_4 (TimeDist (None, 40, 19, 19, 64)    18496     \n",
      "_________________________________________________________________\n",
      "time_distributed_5 (TimeDist (None, 40, 19, 19, 64)    36928     \n",
      "_________________________________________________________________\n",
      "time_distributed_6 (TimeDist (None, 40, 9, 9, 64)      0         \n",
      "_________________________________________________________________\n",
      "time_distributed_7 (TimeDist (None, 40, 9, 9, 128)     73856     \n",
      "_________________________________________________________________\n",
      "time_distributed_8 (TimeDist (None, 40, 9, 9, 128)     147584    \n",
      "_________________________________________________________________\n",
      "time_distributed_9 (TimeDist (None, 40, 4, 4, 128)     0         \n",
      "_________________________________________________________________\n",
      "time_distributed_10 (TimeDis (None, 40, 4, 4, 256)     295168    \n",
      "_________________________________________________________________\n",
      "time_distributed_11 (TimeDis (None, 40, 4, 4, 256)     590080    \n",
      "_________________________________________________________________\n",
      "time_distributed_12 (TimeDis (None, 40, 2, 2, 256)     0         \n",
      "_________________________________________________________________\n",
      "time_distributed_13 (TimeDis (None, 40, 2, 2, 512)     1180160   \n",
      "_________________________________________________________________\n",
      "time_distributed_14 (TimeDis (None, 40, 2, 2, 512)     2359808   \n",
      "_________________________________________________________________\n",
      "time_distributed_15 (TimeDis (None, 40, 1, 1, 512)     0         \n",
      "_________________________________________________________________\n",
      "time_distributed_16 (TimeDis (None, 40, 512)           0         \n",
      "_________________________________________________________________\n",
      "dropout_1 (Dropout)          (None, 40, 512)           0         \n",
      "_________________________________________________________________\n",
      "lstm_1 (LSTM)                (None, 256)               787456    \n",
      "_________________________________________________________________\n",
      "dense_1 (Dense)              (None, 5)                 1285      \n",
      "=================================================================\n",
      "Total params: 5,504,805\n",
      "Trainable params: 5,504,805\n",
      "Non-trainable params: 0\n",
      "_________________________________________________________________\n",
      "None\n",
      "Creating test generator with 14 samples.\n"
     ]
    },
    {
     "name": "stderr",
     "output_type": "stream",
     "text": [
      "/anaconda3/lib/python3.6/site-packages/ipykernel_launcher.py:26: UserWarning: The semantics of the Keras 2 argument `steps_per_epoch` is not the same as the Keras 1 argument `samples_per_epoch`. `steps_per_epoch` is the number of batches to draw from the generator at each epoch. Basically steps_per_epoch = samples_per_epoch/batch_size. Similarly `nb_val_samples`->`validation_steps` and `val_samples`->`steps` arguments have changed. Update your method calls accordingly.\n",
      "/anaconda3/lib/python3.6/site-packages/ipykernel_launcher.py:26: UserWarning: Update your `evaluate_generator` call to the Keras 2 API: `evaluate_generator(generator=<data.thre..., steps=32)`\n"
     ]
    },
    {
     "name": "stdout",
     "output_type": "stream",
     "text": [
      "[1.5838132686913013, 0.1484375]\n",
      "['loss', 'acc']\n"
     ]
    },
    {
     "data": {
      "image/png": "[encoded data removed]",
      "text/plain": [
       "<Figure size 432x288 with 1 Axes>"
      ]
     },
     "metadata": {},
     "output_type": "display_data"
    }
   ],
   "source": [
    "validate(data_type, model, saved_model=saved_model,image_shape=image_shape, class_limit=5)"
   ]
  },
  {
   "cell_type": "code",
   "execution_count": null,
   "metadata": {},
   "outputs": [],
   "source": []
  }
 ],
 "metadata": {
  "kernelspec": {
   "display_name": "Python 3",
   "language": "python",
   "name": "python3"
  },
  "language_info": {
   "codemirror_mode": {
    "name": "ipython",
    "version": 3
   },
   "file_extension": ".py",
   "mimetype": "text/x-python",
   "name": "python",
   "nbconvert_exporter": "python",
   "pygments_lexer": "ipython3",
   "version": "3.6.5"
  }
 },
 "nbformat": 4,
 "nbformat_minor": 2
}
